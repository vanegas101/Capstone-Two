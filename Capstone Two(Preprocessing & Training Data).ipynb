{
 "cells": [
  {
   "cell_type": "code",
   "execution_count": 1,
   "id": "c4b35e76-02f1-4345-89a9-fd2a3f4a7f4f",
   "metadata": {},
   "outputs": [],
   "source": [
    "import pandas as pd\n",
    "import numpy as np\n",
    "from sklearn.feature_selection import VarianceThreshold\n",
    "from sklearn.preprocessing import StandardScaler\n",
    "from sklearn.model_selection import train_test_split\n"
   ]
  },
  {
   "cell_type": "markdown",
   "id": "cd9cbab6-a63c-40d7-9566-46e50ffbe028",
   "metadata": {},
   "source": [
    "Import the csv and convert it to a dataframe"
   ]
  },
  {
   "cell_type": "code",
   "execution_count": 3,
   "id": "e2225a1c-c049-451c-a28b-890c40580d79",
   "metadata": {},
   "outputs": [],
   "source": [
    "df = pd.read_csv('df.csv', index_col=False)"
   ]
  },
  {
   "cell_type": "markdown",
   "id": "6dcb113d-f798-47d5-afb4-72cd42f166de",
   "metadata": {},
   "source": [
    "Rename columns to remove irrelevant information after standarization"
   ]
  },
  {
   "cell_type": "code",
   "execution_count": 5,
   "id": "2cbe74c9-9fe0-479f-b591-4ef1bbb26fc5",
   "metadata": {},
   "outputs": [],
   "source": [
    "df.rename( columns = {'NA Sales (Millions)': 'NA Sales', 'Global Sales (Millions)': 'Global Sales'}, inplace = True)"
   ]
  },
  {
   "cell_type": "code",
   "execution_count": 6,
   "id": "a9a85993-61cf-46d0-8e0b-842ed570b064",
   "metadata": {
    "scrolled": true
   },
   "outputs": [
    {
     "data": {
      "text/html": [
       "<div>\n",
       "<style scoped>\n",
       "    .dataframe tbody tr th:only-of-type {\n",
       "        vertical-align: middle;\n",
       "    }\n",
       "\n",
       "    .dataframe tbody tr th {\n",
       "        vertical-align: top;\n",
       "    }\n",
       "\n",
       "    .dataframe thead th {\n",
       "        text-align: right;\n",
       "    }\n",
       "</style>\n",
       "<table border=\"1\" class=\"dataframe\">\n",
       "  <thead>\n",
       "    <tr style=\"text-align: right;\">\n",
       "      <th></th>\n",
       "      <th>GameID</th>\n",
       "      <th>Game</th>\n",
       "      <th>Release Date</th>\n",
       "      <th>Rating</th>\n",
       "      <th>Genre</th>\n",
       "      <th>Price (USD)</th>\n",
       "      <th>Platform</th>\n",
       "      <th>Publisher</th>\n",
       "      <th>Developer</th>\n",
       "      <th>Metacritic Score</th>\n",
       "      <th>Player Score</th>\n",
       "      <th>NA Sales</th>\n",
       "      <th>Global Sales</th>\n",
       "    </tr>\n",
       "  </thead>\n",
       "  <tbody>\n",
       "    <tr>\n",
       "      <th>0</th>\n",
       "      <td>12140</td>\n",
       "      <td>Max Payne</td>\n",
       "      <td>2011-01-06</td>\n",
       "      <td>M</td>\n",
       "      <td>Action</td>\n",
       "      <td>3.49</td>\n",
       "      <td>PS2</td>\n",
       "      <td>Take-Two Interactive</td>\n",
       "      <td>Rockstar Toronto</td>\n",
       "      <td>89</td>\n",
       "      <td>8.5</td>\n",
       "      <td>1.99</td>\n",
       "      <td>3.31</td>\n",
       "    </tr>\n",
       "    <tr>\n",
       "      <th>1</th>\n",
       "      <td>12140</td>\n",
       "      <td>Max Payne</td>\n",
       "      <td>2011-01-06</td>\n",
       "      <td>M</td>\n",
       "      <td>Action</td>\n",
       "      <td>3.49</td>\n",
       "      <td>XB</td>\n",
       "      <td>Take-Two Interactive</td>\n",
       "      <td>neo Software</td>\n",
       "      <td>89</td>\n",
       "      <td>8.3</td>\n",
       "      <td>0.98</td>\n",
       "      <td>1.22</td>\n",
       "    </tr>\n",
       "    <tr>\n",
       "      <th>2</th>\n",
       "      <td>12140</td>\n",
       "      <td>Max Payne</td>\n",
       "      <td>2011-01-06</td>\n",
       "      <td>M</td>\n",
       "      <td>Action</td>\n",
       "      <td>3.49</td>\n",
       "      <td>GBA</td>\n",
       "      <td>Take-Two Interactive</td>\n",
       "      <td>Mobius Entertainment</td>\n",
       "      <td>89</td>\n",
       "      <td>7.8</td>\n",
       "      <td>0.02</td>\n",
       "      <td>0.03</td>\n",
       "    </tr>\n",
       "    <tr>\n",
       "      <th>3</th>\n",
       "      <td>748490</td>\n",
       "      <td>The Legend of Heroes: Trails of Cold Steel II</td>\n",
       "      <td>2018-02-14</td>\n",
       "      <td>T</td>\n",
       "      <td>RPG</td>\n",
       "      <td>39.99</td>\n",
       "      <td>PSV</td>\n",
       "      <td>Nippon Ichi Software</td>\n",
       "      <td>Falcom</td>\n",
       "      <td>81</td>\n",
       "      <td>7.3</td>\n",
       "      <td>0.02</td>\n",
       "      <td>0.19</td>\n",
       "    </tr>\n",
       "    <tr>\n",
       "      <th>4</th>\n",
       "      <td>748490</td>\n",
       "      <td>The Legend of Heroes: Trails of Cold Steel II</td>\n",
       "      <td>2018-02-14</td>\n",
       "      <td>T</td>\n",
       "      <td>RPG</td>\n",
       "      <td>39.99</td>\n",
       "      <td>PS3</td>\n",
       "      <td>Nippon Ichi Software</td>\n",
       "      <td>Falcom</td>\n",
       "      <td>81</td>\n",
       "      <td>7.8</td>\n",
       "      <td>0.02</td>\n",
       "      <td>0.15</td>\n",
       "    </tr>\n",
       "  </tbody>\n",
       "</table>\n",
       "</div>"
      ],
      "text/plain": [
       "   GameID                                           Game Release Date Rating  \\\n",
       "0   12140                                      Max Payne   2011-01-06      M   \n",
       "1   12140                                      Max Payne   2011-01-06      M   \n",
       "2   12140                                      Max Payne   2011-01-06      M   \n",
       "3  748490  The Legend of Heroes: Trails of Cold Steel II   2018-02-14      T   \n",
       "4  748490  The Legend of Heroes: Trails of Cold Steel II   2018-02-14      T   \n",
       "\n",
       "    Genre  Price (USD) Platform             Publisher             Developer  \\\n",
       "0  Action         3.49      PS2  Take-Two Interactive      Rockstar Toronto   \n",
       "1  Action         3.49       XB  Take-Two Interactive          neo Software   \n",
       "2  Action         3.49      GBA  Take-Two Interactive  Mobius Entertainment   \n",
       "3     RPG        39.99      PSV  Nippon Ichi Software                Falcom   \n",
       "4     RPG        39.99      PS3  Nippon Ichi Software                Falcom   \n",
       "\n",
       "   Metacritic Score  Player Score  NA Sales  Global Sales  \n",
       "0                89           8.5      1.99          3.31  \n",
       "1                89           8.3      0.98          1.22  \n",
       "2                89           7.8      0.02          0.03  \n",
       "3                81           7.3      0.02          0.19  \n",
       "4                81           7.8      0.02          0.15  "
      ]
     },
     "execution_count": 6,
     "metadata": {},
     "output_type": "execute_result"
    }
   ],
   "source": [
    "df.head()"
   ]
  },
  {
   "cell_type": "markdown",
   "id": "4be1e5b6-56f5-4ce9-a436-4c1db22fd3ad",
   "metadata": {},
   "source": [
    "Check on the datatypes of each column"
   ]
  },
  {
   "cell_type": "code",
   "execution_count": 8,
   "id": "8a1aba4c-4b9e-4640-960b-c4cd881dc6cf",
   "metadata": {},
   "outputs": [
    {
     "data": {
      "text/plain": [
       "GameID                int64\n",
       "Game                 object\n",
       "Release Date         object\n",
       "Rating               object\n",
       "Genre                object\n",
       "Price (USD)         float64\n",
       "Platform             object\n",
       "Publisher            object\n",
       "Developer            object\n",
       "Metacritic Score      int64\n",
       "Player Score        float64\n",
       "NA Sales            float64\n",
       "Global Sales        float64\n",
       "dtype: object"
      ]
     },
     "execution_count": 8,
     "metadata": {},
     "output_type": "execute_result"
    }
   ],
   "source": [
    "df.dtypes"
   ]
  },
  {
   "cell_type": "code",
   "execution_count": 9,
   "id": "dd09a1a6-a06b-44a8-a974-28b4bea2dcba",
   "metadata": {},
   "outputs": [
    {
     "data": {
      "text/plain": [
       "Index(['GameID', 'Game', 'Release Date', 'Rating', 'Genre', 'Price (USD)',\n",
       "       'Platform', 'Publisher', 'Developer', 'Metacritic Score',\n",
       "       'Player Score', 'NA Sales', 'Global Sales'],\n",
       "      dtype='object')"
      ]
     },
     "execution_count": 9,
     "metadata": {},
     "output_type": "execute_result"
    }
   ],
   "source": [
    "dfo = df.select_dtypes(include = 'object')\n",
    "df.columns\n"
   ]
  },
  {
   "cell_type": "markdown",
   "id": "ea2029c2-e4f4-48eb-a220-29ae4aab154d",
   "metadata": {},
   "source": [
    "Create dummy variables based off the object columns and reduce the amount of dummy variable columns created by putting in a threshold of .01"
   ]
  },
  {
   "cell_type": "code",
   "execution_count": 11,
   "id": "8398a161-3c65-43e8-832a-4498f1ea8d1d",
   "metadata": {},
   "outputs": [],
   "source": [
    "df_dummies = pd.get_dummies(dfo)\n",
    "selector = VarianceThreshold(threshold = .01)\n",
    "df_dummies_reduced = selector.fit_transform(df_dummies)"
   ]
  },
  {
   "cell_type": "code",
   "execution_count": 12,
   "id": "1e559f32-38fe-45bc-aaed-958f65e75adc",
   "metadata": {},
   "outputs": [],
   "source": [
    "selected_columns = df_dummies.columns[selector.get_support()]\n",
    "df_dummies_reduced = pd.DataFrame(df_dummies_reduced, columns=selected_columns)\n",
    "df_reduced = df.drop(columns=dfo.columns)\n",
    "\n",
    "#Merge the two df's back together to create the complete df\n",
    "\n",
    "df = pd.concat([df_reduced, df_dummies_reduced], axis=1)\n",
    "\n",
    "\n"
   ]
  },
  {
   "cell_type": "markdown",
   "id": "771789f4-2a53-4f3a-8621-2336543bba8d",
   "metadata": {},
   "source": [
    "Check on the new shape of the df with the dummy variables"
   ]
  },
  {
   "cell_type": "code",
   "execution_count": 14,
   "id": "a4352961-b186-44e7-8783-e714035d7f46",
   "metadata": {},
   "outputs": [
    {
     "data": {
      "text/plain": [
       "(442, 88)"
      ]
     },
     "execution_count": 14,
     "metadata": {},
     "output_type": "execute_result"
    }
   ],
   "source": [
    "df.shape"
   ]
  },
  {
   "cell_type": "markdown",
   "id": "cf8f5e7e-f2a6-4d90-b8c5-116f8b7b6788",
   "metadata": {},
   "source": [
    "Check the info of the new df, such as the dtype of the dummy variables"
   ]
  },
  {
   "cell_type": "code",
   "execution_count": 16,
   "id": "acdf6bcd-22b7-4fb8-9fd7-d73cccacba05",
   "metadata": {},
   "outputs": [
    {
     "name": "stdout",
     "output_type": "stream",
     "text": [
      "<class 'pandas.core.frame.DataFrame'>\n",
      "RangeIndex: 442 entries, 0 to 441\n",
      "Data columns (total 88 columns):\n",
      " #   Column                                            Non-Null Count  Dtype  \n",
      "---  ------                                            --------------  -----  \n",
      " 0   GameID                                            442 non-null    int64  \n",
      " 1   Price (USD)                                       442 non-null    float64\n",
      " 2   Metacritic Score                                  442 non-null    int64  \n",
      " 3   Player Score                                      442 non-null    float64\n",
      " 4   NA Sales                                          442 non-null    float64\n",
      " 5   Global Sales                                      442 non-null    float64\n",
      " 6   Game_F.E.A.R.                                     442 non-null    bool   \n",
      " 7   Game_Portal 2                                     442 non-null    bool   \n",
      " 8   Game_The Evil Within                              442 non-null    bool   \n",
      " 9   Game_Tomb Raider: Legend                          442 non-null    bool   \n",
      " 10  Game_Tomb Raider: Underworld                      442 non-null    bool   \n",
      " 11  Game_Wolfenstein: The New Order                   442 non-null    bool   \n",
      " 12  Release Date_2007-03-15                           442 non-null    bool   \n",
      " 13  Release Date_2007-03-29                           442 non-null    bool   \n",
      " 14  Release Date_2008-01-04                           442 non-null    bool   \n",
      " 15  Release Date_2008-11-21                           442 non-null    bool   \n",
      " 16  Release Date_2009-10-06                           442 non-null    bool   \n",
      " 17  Release Date_2010-05-21                           442 non-null    bool   \n",
      " 18  Release Date_2011-04-18                           442 non-null    bool   \n",
      " 19  Release Date_2012-10-08                           442 non-null    bool   \n",
      " 20  Release Date_2013-08-19                           442 non-null    bool   \n",
      " 21  Release Date_2014-05-19                           442 non-null    bool   \n",
      " 22  Release Date_2014-10-06                           442 non-null    bool   \n",
      " 23  Release Date_2014-10-13                           442 non-null    bool   \n",
      " 24  Rating_E                                          442 non-null    bool   \n",
      " 25  Rating_E10+                                       442 non-null    bool   \n",
      " 26  Rating_M                                          442 non-null    bool   \n",
      " 27  Rating_T                                          442 non-null    bool   \n",
      " 28  Genre_Action                                      442 non-null    bool   \n",
      " 29  Genre_Adventure                                   442 non-null    bool   \n",
      " 30  Genre_RPG                                         442 non-null    bool   \n",
      " 31  Genre_Racing                                      442 non-null    bool   \n",
      " 32  Genre_Simulation                                  442 non-null    bool   \n",
      " 33  Genre_Strategy                                    442 non-null    bool   \n",
      " 34  Platform_DS                                       442 non-null    bool   \n",
      " 35  Platform_GC                                       442 non-null    bool   \n",
      " 36  Platform_PC                                       442 non-null    bool   \n",
      " 37  Platform_PS2                                      442 non-null    bool   \n",
      " 38  Platform_PS3                                      442 non-null    bool   \n",
      " 39  Platform_PS4                                      442 non-null    bool   \n",
      " 40  Platform_PSP                                      442 non-null    bool   \n",
      " 41  Platform_PSV                                      442 non-null    bool   \n",
      " 42  Platform_Wii                                      442 non-null    bool   \n",
      " 43  Platform_X360                                     442 non-null    bool   \n",
      " 44  Platform_XB                                       442 non-null    bool   \n",
      " 45  Platform_XOne                                     442 non-null    bool   \n",
      " 46  Publisher_Atari                                   442 non-null    bool   \n",
      " 47  Publisher_Bethesda Softworks                      442 non-null    bool   \n",
      " 48  Publisher_Capcom                                  442 non-null    bool   \n",
      " 49  Publisher_City Interactive                        442 non-null    bool   \n",
      " 50  Publisher_Codemasters                             442 non-null    bool   \n",
      " 51  Publisher_D3Publisher                             442 non-null    bool   \n",
      " 52  Publisher_Deep Silver                             442 non-null    bool   \n",
      " 53  Publisher_Eidos Interactive                       442 non-null    bool   \n",
      " 54  Publisher_Electronic Arts                         442 non-null    bool   \n",
      " 55  Publisher_Focus Home Interactive                  442 non-null    bool   \n",
      " 56  Publisher_Kalypso Media                           442 non-null    bool   \n",
      " 57  Publisher_Konami Digital Entertainment            442 non-null    bool   \n",
      " 58  Publisher_Microsoft Game Studios                  442 non-null    bool   \n",
      " 59  Publisher_Nippon Ichi Software                    442 non-null    bool   \n",
      " 60  Publisher_Sega                                    442 non-null    bool   \n",
      " 61  Publisher_Square Enix                             442 non-null    bool   \n",
      " 62  Publisher_THQ                                     442 non-null    bool   \n",
      " 63  Publisher_Take-Two Interactive                    442 non-null    bool   \n",
      " 64  Publisher_Telltale Games                          442 non-null    bool   \n",
      " 65  Publisher_Ubisoft                                 442 non-null    bool   \n",
      " 66  Publisher_Vivendi Games                           442 non-null    bool   \n",
      " 67  Publisher_Warner Bros. Interactive Entertainment  442 non-null    bool   \n",
      " 68  Developer_Arkane Studios                          442 non-null    bool   \n",
      " 69  Developer_Bethesda Game Studios                   442 non-null    bool   \n",
      " 70  Developer_Capcom                                  442 non-null    bool   \n",
      " 71  Developer_City Interactive                        442 non-null    bool   \n",
      " 72  Developer_Codemasters                             442 non-null    bool   \n",
      " 73  Developer_Crystal Dynamics                        442 non-null    bool   \n",
      " 74  Developer_Day 1 Studios                           442 non-null    bool   \n",
      " 75  Developer_Digital Extremes                        442 non-null    bool   \n",
      " 76  Developer_Falcom                                  442 non-null    bool   \n",
      " 77  Developer_Gearbox Software                        442 non-null    bool   \n",
      " 78  Developer_Haemimont                               442 non-null    bool   \n",
      " 79  Developer_Io Interactive                          442 non-null    bool   \n",
      " 80  Developer_MachineGames                            442 non-null    bool   \n",
      " 81  Developer_Obsidian Entertainment                  442 non-null    bool   \n",
      " 82  Developer_Rebellion                               442 non-null    bool   \n",
      " 83  Developer_Tango Gameworks                         442 non-null    bool   \n",
      " 84  Developer_Techland                                442 non-null    bool   \n",
      " 85  Developer_Valve Software                          442 non-null    bool   \n",
      " 86  Developer_Volition Inc.                           442 non-null    bool   \n",
      " 87  Developer_Yuke's                                  442 non-null    bool   \n",
      "dtypes: bool(82), float64(4), int64(2)\n",
      "memory usage: 56.2 KB\n"
     ]
    }
   ],
   "source": [
    "df.info()"
   ]
  },
  {
   "cell_type": "markdown",
   "id": "8cef59c0-1920-40ab-9456-1d3bb962d68f",
   "metadata": {},
   "source": [
    "Standardize the numeric variables for ML modeling"
   ]
  },
  {
   "cell_type": "code",
   "execution_count": 18,
   "id": "2be541c2-04b6-4ae0-ba40-eca8860292c2",
   "metadata": {},
   "outputs": [
    {
     "data": {
      "text/html": [
       "<div>\n",
       "<style scoped>\n",
       "    .dataframe tbody tr th:only-of-type {\n",
       "        vertical-align: middle;\n",
       "    }\n",
       "\n",
       "    .dataframe tbody tr th {\n",
       "        vertical-align: top;\n",
       "    }\n",
       "\n",
       "    .dataframe thead th {\n",
       "        text-align: right;\n",
       "    }\n",
       "</style>\n",
       "<table border=\"1\" class=\"dataframe\">\n",
       "  <thead>\n",
       "    <tr style=\"text-align: right;\">\n",
       "      <th></th>\n",
       "      <th>GameID</th>\n",
       "      <th>Global Sales</th>\n",
       "      <th>Price (USD)</th>\n",
       "      <th>Metacritic Score</th>\n",
       "      <th>Player Score</th>\n",
       "      <th>NA Sales</th>\n",
       "      <th>Game_F.E.A.R.</th>\n",
       "      <th>Game_Portal 2</th>\n",
       "      <th>Game_The Evil Within</th>\n",
       "      <th>Game_Tomb Raider: Legend</th>\n",
       "      <th>...</th>\n",
       "      <th>Developer_Haemimont</th>\n",
       "      <th>Developer_Io Interactive</th>\n",
       "      <th>Developer_MachineGames</th>\n",
       "      <th>Developer_Obsidian Entertainment</th>\n",
       "      <th>Developer_Rebellion</th>\n",
       "      <th>Developer_Tango Gameworks</th>\n",
       "      <th>Developer_Techland</th>\n",
       "      <th>Developer_Valve Software</th>\n",
       "      <th>Developer_Volition Inc.</th>\n",
       "      <th>Developer_Yuke's</th>\n",
       "    </tr>\n",
       "  </thead>\n",
       "  <tbody>\n",
       "    <tr>\n",
       "      <th>0</th>\n",
       "      <td>12140</td>\n",
       "      <td>3.31</td>\n",
       "      <td>-0.909379</td>\n",
       "      <td>1.175885</td>\n",
       "      <td>0.984675</td>\n",
       "      <td>3.028921</td>\n",
       "      <td>False</td>\n",
       "      <td>False</td>\n",
       "      <td>False</td>\n",
       "      <td>False</td>\n",
       "      <td>...</td>\n",
       "      <td>False</td>\n",
       "      <td>False</td>\n",
       "      <td>False</td>\n",
       "      <td>False</td>\n",
       "      <td>False</td>\n",
       "      <td>False</td>\n",
       "      <td>False</td>\n",
       "      <td>False</td>\n",
       "      <td>False</td>\n",
       "      <td>False</td>\n",
       "    </tr>\n",
       "    <tr>\n",
       "      <th>1</th>\n",
       "      <td>12140</td>\n",
       "      <td>1.22</td>\n",
       "      <td>-0.909379</td>\n",
       "      <td>1.175885</td>\n",
       "      <td>0.834958</td>\n",
       "      <td>1.165682</td>\n",
       "      <td>False</td>\n",
       "      <td>False</td>\n",
       "      <td>False</td>\n",
       "      <td>False</td>\n",
       "      <td>...</td>\n",
       "      <td>False</td>\n",
       "      <td>False</td>\n",
       "      <td>False</td>\n",
       "      <td>False</td>\n",
       "      <td>False</td>\n",
       "      <td>False</td>\n",
       "      <td>False</td>\n",
       "      <td>False</td>\n",
       "      <td>False</td>\n",
       "      <td>False</td>\n",
       "    </tr>\n",
       "    <tr>\n",
       "      <th>2</th>\n",
       "      <td>12140</td>\n",
       "      <td>0.03</td>\n",
       "      <td>-0.909379</td>\n",
       "      <td>1.175885</td>\n",
       "      <td>0.460666</td>\n",
       "      <td>-0.605317</td>\n",
       "      <td>False</td>\n",
       "      <td>False</td>\n",
       "      <td>False</td>\n",
       "      <td>False</td>\n",
       "      <td>...</td>\n",
       "      <td>False</td>\n",
       "      <td>False</td>\n",
       "      <td>False</td>\n",
       "      <td>False</td>\n",
       "      <td>False</td>\n",
       "      <td>False</td>\n",
       "      <td>False</td>\n",
       "      <td>False</td>\n",
       "      <td>False</td>\n",
       "      <td>False</td>\n",
       "    </tr>\n",
       "    <tr>\n",
       "      <th>3</th>\n",
       "      <td>748490</td>\n",
       "      <td>0.19</td>\n",
       "      <td>2.429418</td>\n",
       "      <td>0.491903</td>\n",
       "      <td>0.086375</td>\n",
       "      <td>-0.605317</td>\n",
       "      <td>False</td>\n",
       "      <td>False</td>\n",
       "      <td>False</td>\n",
       "      <td>False</td>\n",
       "      <td>...</td>\n",
       "      <td>False</td>\n",
       "      <td>False</td>\n",
       "      <td>False</td>\n",
       "      <td>False</td>\n",
       "      <td>False</td>\n",
       "      <td>False</td>\n",
       "      <td>False</td>\n",
       "      <td>False</td>\n",
       "      <td>False</td>\n",
       "      <td>False</td>\n",
       "    </tr>\n",
       "    <tr>\n",
       "      <th>4</th>\n",
       "      <td>748490</td>\n",
       "      <td>0.15</td>\n",
       "      <td>2.429418</td>\n",
       "      <td>0.491903</td>\n",
       "      <td>0.460666</td>\n",
       "      <td>-0.605317</td>\n",
       "      <td>False</td>\n",
       "      <td>False</td>\n",
       "      <td>False</td>\n",
       "      <td>False</td>\n",
       "      <td>...</td>\n",
       "      <td>False</td>\n",
       "      <td>False</td>\n",
       "      <td>False</td>\n",
       "      <td>False</td>\n",
       "      <td>False</td>\n",
       "      <td>False</td>\n",
       "      <td>False</td>\n",
       "      <td>False</td>\n",
       "      <td>False</td>\n",
       "      <td>False</td>\n",
       "    </tr>\n",
       "  </tbody>\n",
       "</table>\n",
       "<p>5 rows × 88 columns</p>\n",
       "</div>"
      ],
      "text/plain": [
       "   GameID  Global Sales  Price (USD)  Metacritic Score  Player Score  \\\n",
       "0   12140          3.31    -0.909379          1.175885      0.984675   \n",
       "1   12140          1.22    -0.909379          1.175885      0.834958   \n",
       "2   12140          0.03    -0.909379          1.175885      0.460666   \n",
       "3  748490          0.19     2.429418          0.491903      0.086375   \n",
       "4  748490          0.15     2.429418          0.491903      0.460666   \n",
       "\n",
       "   NA Sales  Game_F.E.A.R.  Game_Portal 2  Game_The Evil Within  \\\n",
       "0  3.028921          False          False                 False   \n",
       "1  1.165682          False          False                 False   \n",
       "2 -0.605317          False          False                 False   \n",
       "3 -0.605317          False          False                 False   \n",
       "4 -0.605317          False          False                 False   \n",
       "\n",
       "   Game_Tomb Raider: Legend  ...  Developer_Haemimont  \\\n",
       "0                     False  ...                False   \n",
       "1                     False  ...                False   \n",
       "2                     False  ...                False   \n",
       "3                     False  ...                False   \n",
       "4                     False  ...                False   \n",
       "\n",
       "   Developer_Io Interactive  Developer_MachineGames  \\\n",
       "0                     False                   False   \n",
       "1                     False                   False   \n",
       "2                     False                   False   \n",
       "3                     False                   False   \n",
       "4                     False                   False   \n",
       "\n",
       "   Developer_Obsidian Entertainment  Developer_Rebellion  \\\n",
       "0                             False                False   \n",
       "1                             False                False   \n",
       "2                             False                False   \n",
       "3                             False                False   \n",
       "4                             False                False   \n",
       "\n",
       "   Developer_Tango Gameworks  Developer_Techland  Developer_Valve Software  \\\n",
       "0                      False               False                     False   \n",
       "1                      False               False                     False   \n",
       "2                      False               False                     False   \n",
       "3                      False               False                     False   \n",
       "4                      False               False                     False   \n",
       "\n",
       "   Developer_Volition Inc.  Developer_Yuke's  \n",
       "0                    False             False  \n",
       "1                    False             False  \n",
       "2                    False             False  \n",
       "3                    False             False  \n",
       "4                    False             False  \n",
       "\n",
       "[5 rows x 88 columns]"
      ]
     },
     "execution_count": 18,
     "metadata": {},
     "output_type": "execute_result"
    }
   ],
   "source": [
    "# Select numeric columns, excluding GameID and Global Sales since GameID is an identifier and Global Sales is the depedent variable\n",
    "numeric_columns = df.select_dtypes(include=['float64', 'int64']).columns.drop(['GameID', 'Global Sales'])\n",
    "\n",
    "# Select boolean columns to keep them out of the standarizing process\n",
    "boolean_columns = df.select_dtypes(include=['bool'])\n",
    "\n",
    "# Keep the GameID and Global Sales columns separate\n",
    "gid_gs_columns = df[['GameID', 'Global Sales']]  # Use double brackets to select both columns as a DataFrame\n",
    "\n",
    "# Initialize the StandardScaler\n",
    "scaler = StandardScaler()\n",
    "\n",
    "# Fit the scaler to the numeric data and transform it\n",
    "df_numeric_standardized = scaler.fit_transform(df[numeric_columns])\n",
    "\n",
    "# Convert the resulting NumPy array back to a df with the same column names\n",
    "df_numeric_standardized = pd.DataFrame(df_numeric_standardized, columns=numeric_columns)\n",
    "\n",
    "#Merge the two df's back together to create the complete df\n",
    "\n",
    "df_final = pd.concat([gid_gs_columns, df_numeric_standardized, boolean_columns], axis=1)\n",
    "\n",
    "#Check the new df\n",
    "df_final.head()\n",
    "\n"
   ]
  },
  {
   "cell_type": "markdown",
   "id": "8df0a791-cdf3-43da-b314-3bd1ba88eec4",
   "metadata": {},
   "source": [
    "Seperate the indepdent variables from the depedent variable"
   ]
  },
  {
   "cell_type": "code",
   "execution_count": 20,
   "id": "aaafe37e-0fad-4260-9161-f45e400743b3",
   "metadata": {},
   "outputs": [],
   "source": [
    "X = df_final.drop(columns = ['Global Sales', 'GameID'])\n",
    "y = df_final['Global Sales']"
   ]
  },
  {
   "cell_type": "markdown",
   "id": "3527c863-33e0-4a32-aaff-3fd8ff8c27b7",
   "metadata": {},
   "source": [
    "Split the data into training and testing sections with a split of 80/20, both for the X and y"
   ]
  },
  {
   "cell_type": "code",
   "execution_count": 22,
   "id": "452b590b-25bd-49f0-b5b1-48f5856afdd2",
   "metadata": {},
   "outputs": [],
   "source": [
    "X_train, X_test, y_train, y_test = train_test_split(X, y, test_size = .2, random_state= 42)"
   ]
  },
  {
   "cell_type": "markdown",
   "id": "0dbf659b-5932-44aa-bf03-36dfea5133e9",
   "metadata": {},
   "source": [
    "Check the shape of the data to make sure it was split accurately"
   ]
  },
  {
   "cell_type": "code",
   "execution_count": 24,
   "id": "f8d67fd6-c3d2-4d74-be52-48157d6cf2e4",
   "metadata": {},
   "outputs": [
    {
     "data": {
      "text/plain": [
       "(353, 86)"
      ]
     },
     "execution_count": 24,
     "metadata": {},
     "output_type": "execute_result"
    }
   ],
   "source": [
    "X_train.shape\n"
   ]
  },
  {
   "cell_type": "code",
   "execution_count": 25,
   "id": "d5d9f99e-b161-4816-9354-9eb7e87d7e71",
   "metadata": {},
   "outputs": [
    {
     "data": {
      "text/plain": [
       "(89, 86)"
      ]
     },
     "execution_count": 25,
     "metadata": {},
     "output_type": "execute_result"
    }
   ],
   "source": [
    "X_test.shape"
   ]
  },
  {
   "cell_type": "code",
   "execution_count": 26,
   "id": "9f323b51-95d3-49d3-8d96-ba3e0142ccbf",
   "metadata": {},
   "outputs": [
    {
     "data": {
      "text/plain": [
       "(353,)"
      ]
     },
     "execution_count": 26,
     "metadata": {},
     "output_type": "execute_result"
    }
   ],
   "source": [
    "y_train.shape"
   ]
  },
  {
   "cell_type": "code",
   "execution_count": 27,
   "id": "a3a03c61-17e0-4c64-ad35-697e86302127",
   "metadata": {},
   "outputs": [
    {
     "data": {
      "text/plain": [
       "(89,)"
      ]
     },
     "execution_count": 27,
     "metadata": {},
     "output_type": "execute_result"
    }
   ],
   "source": [
    "y_test.shape"
   ]
  }
 ],
 "metadata": {
  "kernelspec": {
   "display_name": "Python 3 (ipykernel)",
   "language": "python",
   "name": "python3"
  },
  "language_info": {
   "codemirror_mode": {
    "name": "ipython",
    "version": 3
   },
   "file_extension": ".py",
   "mimetype": "text/x-python",
   "name": "python",
   "nbconvert_exporter": "python",
   "pygments_lexer": "ipython3",
   "version": "3.12.4"
  }
 },
 "nbformat": 4,
 "nbformat_minor": 5
}
